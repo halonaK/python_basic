{
  "nbformat": 4,
  "nbformat_minor": 0,
  "metadata": {
    "colab": {
      "provenance": [],
      "authorship_tag": "ABX9TyPNa6IGWe/XSgzvaosO2lKB",
      "include_colab_link": true
    },
    "kernelspec": {
      "name": "python3",
      "display_name": "Python 3"
    },
    "language_info": {
      "name": "python"
    }
  },
  "cells": [
    {
      "cell_type": "markdown",
      "metadata": {
        "id": "view-in-github",
        "colab_type": "text"
      },
      "source": [
        "<a href=\"https://colab.research.google.com/github/halonaK/python_basic/blob/main/function_quiz.ipynb\" target=\"_parent\"><img src=\"https://colab.research.google.com/assets/colab-badge.svg\" alt=\"Open In Colab\"/></a>"
      ]
    },
    {
      "cell_type": "code",
      "source": [
        "def add_and_multiple(n1, n2):\n",
        "    '''\n",
        "    연습문제 2\n",
        "    :param n1: 숫자 1\n",
        "    :param n2: 숫자 2\n",
        "    :return: 두 숫자의 합과 곱을 튜플로 반환\n",
        "    '''\n",
        "    sum = n1 + n2\n",
        "    mult = n1 * n2\n",
        "    return sum, mult\n"
      ],
      "metadata": {
        "id": "iZ9153NR8K4M"
      },
      "execution_count": null,
      "outputs": []
    },
    {
      "cell_type": "code",
      "source": [
        "# 연습문제 1 실행\n",
        "n1 = 4\n",
        "n2 = 6\n",
        "s, m = add_and_multiple(n1, n2)\n",
        "print(\"두 수:\", n1, \"과\", n2, \"의 합:\", s, \"곱:\", m)\n"
      ],
      "metadata": {
        "id": "88ImW5u28EsM"
      },
      "execution_count": null,
      "outputs": []
    },
    {
      "cell_type": "code",
      "execution_count": null,
      "metadata": {
        "id": "XHwYNyVk7Ic4"
      },
      "outputs": [],
      "source": [
        "def age_dictionary():\n",
        "    '''\n",
        "    이름과 나이를 입력받아 딕셔너리에 저장한 후,\n",
        "    이름을 입력하면 해당 사람의 나이를 알려주는 프로그램\n",
        "    '''\n",
        "    d = {}\n",
        "    while True:\n",
        "        person = input(\"사람 이름을 입력하세요 (그만하려면 그냥 Enter 키를 누르세요): \")\n",
        "        if person == '':\n",
        "            break\n",
        "        age = input(\"나이를 입력하세요: \")\n",
        "        d[person] = age\n",
        "\n",
        "    print(\"딕셔너리 저장 완료! 이제 사람 이름을 입력하면 나이를 알려줄게요.\")\n",
        "    while True:\n",
        "        name = input(\"나이를 알고 싶은 사람 이름을 입력하세요 (그만하려면 그냥 Enter 키를 누르세요): \")\n",
        "        if name == '':\n",
        "            break\n",
        "        if name in d:\n",
        "            print(name, \"의 나이는\", d[name], \"살입니다.\")\n",
        "        else:\n",
        "            print(name, \"의 나이를 모르겠어요.\")\n",
        "    print(\"나이 딕셔너리 프로그램을 종료합니다.\")\n",
        "\n"
      ]
    },
    {
      "cell_type": "code",
      "source": [
        "\n",
        "# 연습문제 2 실행\n",
        "age_dictionary()\n"
      ],
      "metadata": {
        "id": "rzbhLFw18SBx"
      },
      "execution_count": null,
      "outputs": []
    }
  ]
}