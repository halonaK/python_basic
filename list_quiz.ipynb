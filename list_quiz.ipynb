{
  "nbformat": 4,
  "nbformat_minor": 0,
  "metadata": {
    "colab": {
      "provenance": [],
      "authorship_tag": "ABX9TyMkMXUrcy+pwKMvSsXcRvEk",
      "include_colab_link": true
    },
    "kernelspec": {
      "name": "python3",
      "display_name": "Python 3"
    },
    "language_info": {
      "name": "python"
    }
  },
  "cells": [
    {
      "cell_type": "markdown",
      "metadata": {
        "id": "view-in-github",
        "colab_type": "text"
      },
      "source": [
        "<a href=\"https://colab.research.google.com/github/halonaK/python_basic/blob/main/list_quiz.ipynb\" target=\"_parent\"><img src=\"https://colab.research.google.com/assets/colab-badge.svg\" alt=\"Open In Colab\"/></a>"
      ]
    },
    {
      "cell_type": "markdown",
      "source": [
        "**Lists**\n",
        "\n",
        "*매월 지출 내역이 아래와 같다고 가정해 보겠습니다.\n",
        "\n",
        "1월 - 2200\n",
        "\n",
        "2월 - 2350\n",
        "\n",
        "3월 - 2600\n",
        "\n",
        "4월 - 2130\n",
        "\n",
        "5월 - 2190\n",
        "\n",
        "이러한 월별 지출을 저장할 목록을 만들고, 이를 사용하여 다음을 확인하세요.\n",
        "\n",
        "2월에 1월 대비 얼마를 더 지출했습니까?\n",
        "\n",
        "올해 1분기(첫 3개월)의 총 지출을 확인하세요.\n",
        "\n",
        "어떤 달에 정확히 2000달러를 지출했는지 확인하세요.\n",
        "\n",
        "6월이 막 끝났고 지출이 1980달러입니다. 이 항목을 월별 지출 목록에 추가하세요.\n",
        "\n",
        "4월에 구매한 품목을 반품하고 200달러를 환불받았습니다. 이를 바탕으로 월별 지출 목록을 수정하세요.*\n"
      ],
      "metadata": {
        "id": "b1XEXUacuLbZ"
      }
    },
    {
      "cell_type": "code",
      "execution_count": 1,
      "metadata": {
        "colab": {
          "base_uri": "https://localhost:8080/"
        },
        "id": "PIFg0DlZuEUF",
        "outputId": "4cc73a38-a65b-412b-8810-db7bd8ca0987"
      },
      "outputs": [
        {
          "output_type": "stream",
          "name": "stdout",
          "text": [
            "150\n",
            "7150\n",
            "False\n",
            "[2200, 2350, 2600, 2130, 2190, 1980]\n",
            "[2200, 2350, 2600, 1930, 2190, 1980]\n"
          ]
        }
      ],
      "source": [
        "expenses = [2200, 2350, 2600, 2130, 2190]\n",
        "\n",
        "# 1. 2월이 1월보다 얼마나 더 썼는가?\n",
        "print(expenses[1] - expenses[0])\n",
        "\n",
        "# 2. 1분기 총 지출\n",
        "print(sum(expenses[0:3]))\n",
        "\n",
        "# 3. 2000달러 지출한 달 확인\n",
        "print(2000 in expenses)\n",
        "\n",
        "# 4. 6월 지출 추가\n",
        "expenses.append(1980)\n",
        "print(expenses)\n",
        "\n",
        "# 5. 4월 환불 반영\n",
        "expenses[3] -= 200\n",
        "print(expenses)\n"
      ]
    }
  ]
}